{
  "nbformat": 4,
  "nbformat_minor": 0,
  "metadata": {
    "colab": {
      "provenance": [],
      "authorship_tag": "ABX9TyPgXwWI+Y6LSAZUR58wtHoW"
    },
    "kernelspec": {
      "name": "python3",
      "display_name": "Python 3"
    },
    "language_info": {
      "name": "python"
    }
  },
  "cells": [
    {
      "cell_type": "code",
      "execution_count": null,
      "metadata": {
        "id": "BUWAhFkGOvFM"
      },
      "outputs": [],
      "source": [
        "!pip install bardapi"
      ]
    },
    {
      "cell_type": "code",
      "source": [
        "from bardapi import Bard\n",
        "import os\n",
        "\n",
        "os.environ['_BARD_API_KEY']=\"Sua chave da api aqui\"\n",
        "Bard().get_answer(\"Whats is Google Bard?\")['content']"
      ],
      "metadata": {
        "id": "2dBJjwwzSdkq"
      },
      "execution_count": null,
      "outputs": []
    }
  ]
}