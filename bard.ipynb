{
  "cells": [
    {
      "cell_type": "code",
      "execution_count": 10,
      "metadata": {
        "colab": {
          "base_uri": "https://localhost:8080/"
        },
        "id": "-8bI0xBcElN-",
        "outputId": "db3217ab-5f34-4ab0-a8c6-f4d925726b28"
      },
      "outputs": [
        {
          "output_type": "stream",
          "name": "stdout",
          "text": [
            "Looking in indexes: https://pypi.org/simple, https://us-python.pkg.dev/colab-wheels/public/simple/\n",
            "Requirement already satisfied: bardapi in /usr/local/lib/python3.10/dist-packages (0.1.4)\n",
            "Looking in indexes: https://pypi.org/simple, https://us-python.pkg.dev/colab-wheels/public/simple/\n",
            "Requirement already satisfied: requests in /usr/local/lib/python3.10/dist-packages (2.27.1)\n",
            "Requirement already satisfied: urllib3<1.27,>=1.21.1 in /usr/local/lib/python3.10/dist-packages (from requests) (1.26.15)\n",
            "Requirement already satisfied: certifi>=2017.4.17 in /usr/local/lib/python3.10/dist-packages (from requests) (2022.12.7)\n",
            "Requirement already satisfied: charset-normalizer~=2.0.0 in /usr/local/lib/python3.10/dist-packages (from requests) (2.0.12)\n",
            "Requirement already satisfied: idna<4,>=2.5 in /usr/local/lib/python3.10/dist-packages (from requests) (3.4)\n"
          ]
        }
      ],
      "source": [
        "!pip install bardapi\n",
        "!pip install requests"
      ]
    },
    {
      "cell_type": "code",
      "execution_count": 21,
      "metadata": {
        "colab": {
          "base_uri": "https://localhost:8080/"
        },
        "id": "qPj16Ye4ElOC",
        "outputId": "2f190323-5a7b-4e8b-8917-fc9ff70f90ba"
      },
      "outputs": [
        {
          "name": "stdout",
          "output_type": "stream",
          "text": [
            "Faça uma pergunta para o Bard: What is Chat GPT?\n"
          ]
        }
      ],
      "source": [
        "from bardapi import Bard\n",
        "import os\n",
        "\n",
        "os.environ['_BARD_API_KEY']=\"_Secure-1PSID\"\n",
        "\n",
        "pergunta = input(\"Faça uma pergunta para o Bard: \")"
      ]
    },
    {
      "cell_type": "code",
      "source": [
        "Bard().get_answer(pergunta)['content']"
      ],
      "metadata": {
        "colab": {
          "base_uri": "https://localhost:8080/",
          "height": 105
        },
        "id": "X6JbNJtRQjZH",
        "outputId": "6aae1822-7c03-49d7-dc06-b38e6ddd0743"
      },
      "execution_count": 22,
      "outputs": [
        {
          "output_type": "execute_result",
          "data": {
            "text/plain": [
              "\"ChatGPT is an artificial intelligence (AI) chatbot developed by OpenAI and released in November 2022. It is built on top of OpenAI's GPT-3.5 and GPT-4 foundational GPT large language models (LLMs), and has been fine-tuned (an approach to transfer learning) for conversational applications using both supervised and reinforcement learning techniques.\\n\\nChatGPT was launched as a prototype on November 30, 2022, and garnered attention for its detailed responses and articulate answers across many domains of knowledge. Its propensity to confidently provide factually incorrect responses has been identified as a significant drawback.\\n\\nChatGPT is still under development, but it has the potential to revolutionize the way we interact with technology. It can be used for a variety of tasks, including:\\n\\n* Answering questions\\n* Generating text\\n* Translating languages\\n* Writing different kinds of creative content\\n* Chatting with people\\n\\nChatGPT is still in its early stages, but it has the potential to change the world. It is a powerful tool that can be used for good or bad. It is important to use ChatGPT responsibly and ethically.\\n\\nHere are some of the things that ChatGPT can do:\\n\\n* Answer questions in a comprehensive and informative way, even if they are open ended, challenging, or strange.\\n* Generate different creative text formats of text content, like poems, code, scripts, musical pieces, email, letters, etc.\\n* Translate languages.\\n* Chat with people in a natural and engaging way.\\n\\nChatGPT is still under development, but it has the potential to be a powerful tool for learning, creativity, and communication.\""
            ],
            "application/vnd.google.colaboratory.intrinsic+json": {
              "type": "string"
            }
          },
          "metadata": {},
          "execution_count": 22
        }
      ]
    }
  ],
  "metadata": {
    "kernelspec": {
      "display_name": "venv",
      "language": "python",
      "name": "python3"
    },
    "language_info": {
      "codemirror_mode": {
        "name": "ipython",
        "version": 3
      },
      "file_extension": ".py",
      "mimetype": "text/x-python",
      "name": "python",
      "nbconvert_exporter": "python",
      "pygments_lexer": "ipython3",
      "version": "3.9.2"
    },
    "orig_nbformat": 4,
    "colab": {
      "provenance": []
    }
  },
  "nbformat": 4,
  "nbformat_minor": 0
}