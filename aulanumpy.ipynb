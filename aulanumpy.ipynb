{
  "nbformat": 4,
  "nbformat_minor": 0,
  "metadata": {
    "colab": {
      "name": "aulanumpy.ipynb",
      "provenance": [],
      "authorship_tag": "ABX9TyND1ClqQxenoQmFajqQbVLc"
    },
    "kernelspec": {
      "name": "python3",
      "display_name": "Python 3"
    },
    "language_info": {
      "name": "python"
    }
  },
  "cells": [
    {
      "cell_type": "markdown",
      "metadata": {
        "id": "UVip1aWmfZX1"
      },
      "source": [
        "## Atividades da aulda sobre Numpy"
      ]
    },
    {
      "cell_type": "markdown",
      "metadata": {
        "id": "-R2b3DLrhhS7"
      },
      "source": [
        "Importando biblioteca\n"
      ]
    },
    {
      "cell_type": "code",
      "metadata": {
        "id": "ga9MQGsQfqKP"
      },
      "source": [
        "import numpy as np"
      ],
      "execution_count": 3,
      "outputs": []
    },
    {
      "cell_type": "markdown",
      "metadata": {
        "id": "Pc53Aw7Ihoo5"
      },
      "source": [
        "Gerar ndarray de 2 x 3 e litas com 3 elementos cada"
      ]
    },
    {
      "cell_type": "code",
      "metadata": {
        "id": "0h7JdJIhhc3U"
      },
      "source": [
        "dados=np.random.rand(2,3)"
      ],
      "execution_count": 6,
      "outputs": []
    },
    {
      "cell_type": "code",
      "metadata": {
        "colab": {
          "base_uri": "https://localhost:8080/"
        },
        "id": "1Wy6C8xah3RJ",
        "outputId": "894a5a7b-c2ac-4c3d-877f-5c0cf4376fe2"
      },
      "source": [
        "dados"
      ],
      "execution_count": 7,
      "outputs": [
        {
          "output_type": "execute_result",
          "data": {
            "text/plain": [
              "array([[0.58378432, 0.88826931, 0.69999694],\n",
              "       [0.02967102, 0.34132954, 0.48061548]])"
            ]
          },
          "metadata": {},
          "execution_count": 7
        }
      ]
    },
    {
      "cell_type": "markdown",
      "metadata": {
        "id": "MTSDePm7iUXQ"
      },
      "source": [
        "Tipo de dados"
      ]
    },
    {
      "cell_type": "code",
      "metadata": {
        "colab": {
          "base_uri": "https://localhost:8080/"
        },
        "id": "w604xvhhiFn1",
        "outputId": "adbff464-2fa9-4cf5-8b29-2bd449d8e8fc"
      },
      "source": [
        "dados.dtype"
      ],
      "execution_count": 8,
      "outputs": [
        {
          "output_type": "execute_result",
          "data": {
            "text/plain": [
              "dtype('float64')"
            ]
          },
          "metadata": {},
          "execution_count": 8
        }
      ]
    },
    {
      "cell_type": "markdown",
      "metadata": {
        "id": "EWhi9m1wiW6E"
      },
      "source": [
        "Tamanho e dimensões"
      ]
    },
    {
      "cell_type": "code",
      "metadata": {
        "colab": {
          "base_uri": "https://localhost:8080/"
        },
        "id": "bztfgc5ziOPg",
        "outputId": "8fa89012-0169-4c6f-8ee7-e3dfcf03b06f"
      },
      "source": [
        "dados.shape"
      ],
      "execution_count": 9,
      "outputs": [
        {
          "output_type": "execute_result",
          "data": {
            "text/plain": [
              "(2, 3)"
            ]
          },
          "metadata": {},
          "execution_count": 9
        }
      ]
    },
    {
      "cell_type": "code",
      "metadata": {
        "colab": {
          "base_uri": "https://localhost:8080/"
        },
        "id": "svSt7dNuis9p",
        "outputId": "1aba3e9d-57f2-4d07-9b55-dbe697ddd077"
      },
      "source": [
        "dados.ndim"
      ],
      "execution_count": 10,
      "outputs": [
        {
          "output_type": "execute_result",
          "data": {
            "text/plain": [
              "2"
            ]
          },
          "metadata": {},
          "execution_count": 10
        }
      ]
    },
    {
      "cell_type": "markdown",
      "metadata": {
        "id": "4ufE69ExigFn"
      },
      "source": [
        "Criar ndarray usando a função array"
      ]
    },
    {
      "cell_type": "code",
      "metadata": {
        "id": "tGPSb-JsicOs"
      },
      "source": [
        "lista=[1,2,5,7.8,1.25]"
      ],
      "execution_count": 11,
      "outputs": []
    },
    {
      "cell_type": "code",
      "metadata": {
        "id": "fR2dyakVi9Gs"
      },
      "source": [
        "dados2=np.array(lista)"
      ],
      "execution_count": 12,
      "outputs": []
    },
    {
      "cell_type": "code",
      "metadata": {
        "colab": {
          "base_uri": "https://localhost:8080/"
        },
        "id": "atUgb65cjGws",
        "outputId": "95e81e6d-0f22-4048-d82e-5e3856784306"
      },
      "source": [
        "dados2"
      ],
      "execution_count": 13,
      "outputs": [
        {
          "output_type": "execute_result",
          "data": {
            "text/plain": [
              "array([1.  , 2.  , 5.  , 7.8 , 1.25])"
            ]
          },
          "metadata": {},
          "execution_count": 13
        }
      ]
    },
    {
      "cell_type": "code",
      "metadata": {
        "id": "TnAaQPkFjJ94"
      },
      "source": [
        "lista2=[[1,2,3,4],[4,3,2,1]]"
      ],
      "execution_count": 16,
      "outputs": []
    },
    {
      "cell_type": "code",
      "metadata": {
        "id": "7iw8PEWBjcbA"
      },
      "source": [
        "dados3=np.array(lista2)"
      ],
      "execution_count": 17,
      "outputs": []
    },
    {
      "cell_type": "code",
      "metadata": {
        "colab": {
          "base_uri": "https://localhost:8080/"
        },
        "id": "ymYSyuVPjnKQ",
        "outputId": "f5ddd95c-9e78-4bd8-c761-9b6500d33525"
      },
      "source": [
        "dados3"
      ],
      "execution_count": 18,
      "outputs": [
        {
          "output_type": "execute_result",
          "data": {
            "text/plain": [
              "array([[1, 2, 3, 4],\n",
              "       [4, 3, 2, 1]])"
            ]
          },
          "metadata": {},
          "execution_count": 18
        }
      ]
    },
    {
      "cell_type": "markdown",
      "metadata": {
        "id": "DMFsYCfSkBVP"
      },
      "source": [
        "Outras maneiras de criar arrays"
      ]
    },
    {
      "cell_type": "code",
      "metadata": {
        "id": "gy-0be4gkG4s"
      },
      "source": [
        "dadoszero=np.zeros(10)"
      ],
      "execution_count": 19,
      "outputs": []
    },
    {
      "cell_type": "code",
      "metadata": {
        "colab": {
          "base_uri": "https://localhost:8080/"
        },
        "id": "FknIn1M8kNyp",
        "outputId": "f6eccf42-1666-4e08-a920-ae4362127c62"
      },
      "source": [
        "dadoszero"
      ],
      "execution_count": 20,
      "outputs": [
        {
          "output_type": "execute_result",
          "data": {
            "text/plain": [
              "array([0., 0., 0., 0., 0., 0., 0., 0., 0., 0.])"
            ]
          },
          "metadata": {},
          "execution_count": 20
        }
      ]
    },
    {
      "cell_type": "code",
      "metadata": {
        "id": "zeBpNfyEkP7x"
      },
      "source": [
        "dadoszero2=np.zeros((2,3))"
      ],
      "execution_count": 21,
      "outputs": []
    },
    {
      "cell_type": "code",
      "metadata": {
        "colab": {
          "base_uri": "https://localhost:8080/"
        },
        "id": "elbda-81ke-y",
        "outputId": "4ab9cf1f-44ad-4ece-e679-8f2070d39ed1"
      },
      "source": [
        "dadoszero2"
      ],
      "execution_count": 22,
      "outputs": [
        {
          "output_type": "execute_result",
          "data": {
            "text/plain": [
              "array([[0., 0., 0.],\n",
              "       [0., 0., 0.]])"
            ]
          },
          "metadata": {},
          "execution_count": 22
        }
      ]
    },
    {
      "cell_type": "code",
      "metadata": {
        "id": "TJ8uo6uCkgfp"
      },
      "source": [
        "dadosum=np.ones(5)"
      ],
      "execution_count": 23,
      "outputs": []
    },
    {
      "cell_type": "code",
      "metadata": {
        "colab": {
          "base_uri": "https://localhost:8080/"
        },
        "id": "GOEFglZPkrV5",
        "outputId": "d9207cc1-31d0-4ec7-a3ac-440be646eef0"
      },
      "source": [
        "dadosum"
      ],
      "execution_count": 24,
      "outputs": [
        {
          "output_type": "execute_result",
          "data": {
            "text/plain": [
              "array([1., 1., 1., 1., 1.])"
            ]
          },
          "metadata": {},
          "execution_count": 24
        }
      ]
    },
    {
      "cell_type": "code",
      "metadata": {
        "id": "-TfOldnVktA8"
      },
      "source": [
        "dadosseq=np.arange(10)"
      ],
      "execution_count": 25,
      "outputs": []
    },
    {
      "cell_type": "code",
      "metadata": {
        "colab": {
          "base_uri": "https://localhost:8080/"
        },
        "id": "nla8pqo_k0oQ",
        "outputId": "a2c8b1a2-ee1b-4c74-fd16-eb6a8451fa58"
      },
      "source": [
        "dadosseq"
      ],
      "execution_count": 26,
      "outputs": [
        {
          "output_type": "execute_result",
          "data": {
            "text/plain": [
              "array([0, 1, 2, 3, 4, 5, 6, 7, 8, 9])"
            ]
          },
          "metadata": {},
          "execution_count": 26
        }
      ]
    },
    {
      "cell_type": "code",
      "metadata": {
        "id": "y7CiOhEok2Ms"
      },
      "source": [
        "dadosseq2=np.arange(0,20,2)"
      ],
      "execution_count": 27,
      "outputs": []
    },
    {
      "cell_type": "code",
      "metadata": {
        "colab": {
          "base_uri": "https://localhost:8080/"
        },
        "id": "7iZy6Sp9k8mU",
        "outputId": "172af15b-7fa5-49fd-8acf-e776d56c7ce7"
      },
      "source": [
        "dadosseq2"
      ],
      "execution_count": 28,
      "outputs": [
        {
          "output_type": "execute_result",
          "data": {
            "text/plain": [
              "array([ 0,  2,  4,  6,  8, 10, 12, 14, 16, 18])"
            ]
          },
          "metadata": {},
          "execution_count": 28
        }
      ]
    },
    {
      "cell_type": "code",
      "metadata": {
        "colab": {
          "base_uri": "https://localhost:8080/"
        },
        "id": "d3bvtqfDk-O7",
        "outputId": "1a00fe26-55f5-434b-c9c8-c749e24dff3a"
      },
      "source": [
        "dadosseq.dtype"
      ],
      "execution_count": 29,
      "outputs": [
        {
          "output_type": "execute_result",
          "data": {
            "text/plain": [
              "dtype('int64')"
            ]
          },
          "metadata": {},
          "execution_count": 29
        }
      ]
    },
    {
      "cell_type": "code",
      "metadata": {
        "id": "HiV88m8klCpi"
      },
      "source": [
        "dadosseqf=dadosseq.astype(np.float64)"
      ],
      "execution_count": 35,
      "outputs": []
    },
    {
      "cell_type": "code",
      "metadata": {
        "colab": {
          "base_uri": "https://localhost:8080/"
        },
        "id": "vih2TxpAlMhA",
        "outputId": "373d2cab-25be-4e9f-95bc-187ed27545a0"
      },
      "source": [
        "dadosseqf"
      ],
      "execution_count": 37,
      "outputs": [
        {
          "output_type": "execute_result",
          "data": {
            "text/plain": [
              "array([0., 1., 2., 3., 4., 5., 6., 7., 8., 9.])"
            ]
          },
          "metadata": {},
          "execution_count": 37
        }
      ]
    },
    {
      "cell_type": "code",
      "metadata": {
        "colab": {
          "base_uri": "https://localhost:8080/"
        },
        "id": "V1YPv6AvlPRg",
        "outputId": "f4e15bb5-2c9f-4694-f0af-f60e89f1d4c9"
      },
      "source": [
        "dadosseqf.dtype"
      ],
      "execution_count": 38,
      "outputs": [
        {
          "output_type": "execute_result",
          "data": {
            "text/plain": [
              "dtype('float64')"
            ]
          },
          "metadata": {},
          "execution_count": 38
        }
      ]
    },
    {
      "cell_type": "markdown",
      "metadata": {
        "id": "QvZWmnYxlxjm"
      },
      "source": [
        "Aritmética com array"
      ]
    },
    {
      "cell_type": "code",
      "metadata": {
        "id": "W5Kv3ZVTlq3w"
      },
      "source": [
        "dados4=np.array([[1,2,3],[4,5,6]])"
      ],
      "execution_count": 39,
      "outputs": []
    },
    {
      "cell_type": "code",
      "metadata": {
        "colab": {
          "base_uri": "https://localhost:8080/"
        },
        "id": "mdpopff8mCQU",
        "outputId": "f9751998-a72d-48d2-97a7-147e198cc332"
      },
      "source": [
        "dados4"
      ],
      "execution_count": 40,
      "outputs": [
        {
          "output_type": "execute_result",
          "data": {
            "text/plain": [
              "array([[1, 2, 3],\n",
              "       [4, 5, 6]])"
            ]
          },
          "metadata": {},
          "execution_count": 40
        }
      ]
    },
    {
      "cell_type": "code",
      "metadata": {
        "colab": {
          "base_uri": "https://localhost:8080/"
        },
        "id": "2Dac2FtlmEhI",
        "outputId": "03801c38-ca45-45d6-b324-d0f4c82d9315"
      },
      "source": [
        "dados4*dados4"
      ],
      "execution_count": 41,
      "outputs": [
        {
          "output_type": "execute_result",
          "data": {
            "text/plain": [
              "array([[ 1,  4,  9],\n",
              "       [16, 25, 36]])"
            ]
          },
          "metadata": {},
          "execution_count": 41
        }
      ]
    },
    {
      "cell_type": "code",
      "metadata": {
        "colab": {
          "base_uri": "https://localhost:8080/"
        },
        "id": "6OG59BT7mYOu",
        "outputId": "425eedfa-3a5d-4b74-e0d2-cb35f9cccb96"
      },
      "source": [
        "dados4-dados4"
      ],
      "execution_count": 42,
      "outputs": [
        {
          "output_type": "execute_result",
          "data": {
            "text/plain": [
              "array([[0, 0, 0],\n",
              "       [0, 0, 0]])"
            ]
          },
          "metadata": {},
          "execution_count": 42
        }
      ]
    },
    {
      "cell_type": "code",
      "metadata": {
        "colab": {
          "base_uri": "https://localhost:8080/"
        },
        "id": "oJYJh-rymhgp",
        "outputId": "8de66864-98e8-422c-ae25-d3d84c8a0149"
      },
      "source": [
        "1/dados4"
      ],
      "execution_count": 43,
      "outputs": [
        {
          "output_type": "execute_result",
          "data": {
            "text/plain": [
              "array([[1.        , 0.5       , 0.33333333],\n",
              "       [0.25      , 0.2       , 0.16666667]])"
            ]
          },
          "metadata": {},
          "execution_count": 43
        }
      ]
    },
    {
      "cell_type": "code",
      "metadata": {
        "id": "ygQy2KxGmomI"
      },
      "source": [
        "dados5=dados4+dados4"
      ],
      "execution_count": 44,
      "outputs": []
    },
    {
      "cell_type": "code",
      "metadata": {
        "colab": {
          "base_uri": "https://localhost:8080/"
        },
        "id": "sNvRU3USmzZp",
        "outputId": "e89f179e-ae85-4f10-d175-b7b2b140cd4f"
      },
      "source": [
        "dados5"
      ],
      "execution_count": 45,
      "outputs": [
        {
          "output_type": "execute_result",
          "data": {
            "text/plain": [
              "array([[ 2,  4,  6],\n",
              "       [ 8, 10, 12]])"
            ]
          },
          "metadata": {},
          "execution_count": 45
        }
      ]
    },
    {
      "cell_type": "code",
      "metadata": {
        "colab": {
          "base_uri": "https://localhost:8080/"
        },
        "id": "P4_t8NQMm4k1",
        "outputId": "613543f9-cb63-4e08-be42-f8600a1cc80c"
      },
      "source": [
        "dados5>dados4"
      ],
      "execution_count": 46,
      "outputs": [
        {
          "output_type": "execute_result",
          "data": {
            "text/plain": [
              "array([[ True,  True,  True],\n",
              "       [ True,  True,  True]])"
            ]
          },
          "metadata": {},
          "execution_count": 46
        }
      ]
    },
    {
      "cell_type": "code",
      "metadata": {
        "colab": {
          "base_uri": "https://localhost:8080/"
        },
        "id": "kW1CPijhm8YK",
        "outputId": "76be4748-bd45-4b24-d007-09f757c02531"
      },
      "source": [
        "dados>dados5"
      ],
      "execution_count": 47,
      "outputs": [
        {
          "output_type": "execute_result",
          "data": {
            "text/plain": [
              "array([[False, False, False],\n",
              "       [False, False, False]])"
            ]
          },
          "metadata": {},
          "execution_count": 47
        }
      ]
    },
    {
      "cell_type": "markdown",
      "metadata": {
        "id": "B-dA_U4LnIma"
      },
      "source": [
        "Indexação"
      ]
    },
    {
      "cell_type": "code",
      "metadata": {
        "colab": {
          "base_uri": "https://localhost:8080/"
        },
        "id": "2reS4deonHGb",
        "outputId": "0db8153e-d70b-4549-c258-c725cad45d47"
      },
      "source": [
        "dadosseq"
      ],
      "execution_count": 48,
      "outputs": [
        {
          "output_type": "execute_result",
          "data": {
            "text/plain": [
              "array([0, 1, 2, 3, 4, 5, 6, 7, 8, 9])"
            ]
          },
          "metadata": {},
          "execution_count": 48
        }
      ]
    },
    {
      "cell_type": "code",
      "metadata": {
        "colab": {
          "base_uri": "https://localhost:8080/"
        },
        "id": "28k7Mh5nnUHQ",
        "outputId": "bdaef1f2-4733-4640-ce8c-852f1e252fc9"
      },
      "source": [
        "dadosseq[5]"
      ],
      "execution_count": 49,
      "outputs": [
        {
          "output_type": "execute_result",
          "data": {
            "text/plain": [
              "5"
            ]
          },
          "metadata": {},
          "execution_count": 49
        }
      ]
    },
    {
      "cell_type": "code",
      "metadata": {
        "colab": {
          "base_uri": "https://localhost:8080/"
        },
        "id": "D0TIxbGgnXKb",
        "outputId": "e1cffe6b-5f2a-4ab1-fe39-8644b741db14"
      },
      "source": [
        "dadosseq"
      ],
      "execution_count": 50,
      "outputs": [
        {
          "output_type": "execute_result",
          "data": {
            "text/plain": [
              "array([0, 1, 2, 3, 4, 5, 6, 7, 8, 9])"
            ]
          },
          "metadata": {},
          "execution_count": 50
        }
      ]
    },
    {
      "cell_type": "code",
      "metadata": {
        "colab": {
          "base_uri": "https://localhost:8080/"
        },
        "id": "Qzd5DEpxnjRy",
        "outputId": "f63f4a1a-a476-457a-ccf1-91a9f9948f09"
      },
      "source": [
        "dadosseq[3:6]"
      ],
      "execution_count": 51,
      "outputs": [
        {
          "output_type": "execute_result",
          "data": {
            "text/plain": [
              "array([3, 4, 5])"
            ]
          },
          "metadata": {},
          "execution_count": 51
        }
      ]
    },
    {
      "cell_type": "code",
      "metadata": {
        "id": "lXgrBNwcnnFL"
      },
      "source": [
        "dadosseq[3:6]=20"
      ],
      "execution_count": 52,
      "outputs": []
    },
    {
      "cell_type": "code",
      "metadata": {
        "colab": {
          "base_uri": "https://localhost:8080/"
        },
        "id": "ZYmbdLEWnrZO",
        "outputId": "41c37ba0-128c-427a-e084-3d3992a485f3"
      },
      "source": [
        "dadosseq"
      ],
      "execution_count": 53,
      "outputs": [
        {
          "output_type": "execute_result",
          "data": {
            "text/plain": [
              "array([ 0,  1,  2, 20, 20, 20,  6,  7,  8,  9])"
            ]
          },
          "metadata": {},
          "execution_count": 53
        }
      ]
    },
    {
      "cell_type": "code",
      "metadata": {
        "id": "w3r6pRUAnvhV"
      },
      "source": [
        "fatiados=dadosseq[2:4]"
      ],
      "execution_count": 54,
      "outputs": []
    },
    {
      "cell_type": "code",
      "metadata": {
        "colab": {
          "base_uri": "https://localhost:8080/"
        },
        "id": "awvjSGOqn2VH",
        "outputId": "55b15a29-808d-4513-dccb-c873dd364226"
      },
      "source": [
        "fatiados"
      ],
      "execution_count": 55,
      "outputs": [
        {
          "output_type": "execute_result",
          "data": {
            "text/plain": [
              "array([ 2, 20])"
            ]
          },
          "metadata": {},
          "execution_count": 55
        }
      ]
    },
    {
      "cell_type": "code",
      "metadata": {
        "id": "lz_tN42Nn3wu"
      },
      "source": [
        "fatiados[1]=2000"
      ],
      "execution_count": 56,
      "outputs": []
    },
    {
      "cell_type": "code",
      "metadata": {
        "colab": {
          "base_uri": "https://localhost:8080/"
        },
        "id": "9A9C15ssoC92",
        "outputId": "4f582595-fa92-476a-af8e-c321c6145f28"
      },
      "source": [
        "fatiados"
      ],
      "execution_count": 58,
      "outputs": [
        {
          "output_type": "execute_result",
          "data": {
            "text/plain": [
              "array([   2, 2000])"
            ]
          },
          "metadata": {},
          "execution_count": 58
        }
      ]
    },
    {
      "cell_type": "code",
      "metadata": {
        "colab": {
          "base_uri": "https://localhost:8080/"
        },
        "id": "u9c5fF7zoFLw",
        "outputId": "06c1df20-9aa3-4b0a-e83e-9b54ef379b32"
      },
      "source": [
        "dadosseq"
      ],
      "execution_count": 59,
      "outputs": [
        {
          "output_type": "execute_result",
          "data": {
            "text/plain": [
              "array([   0,    1,    2, 2000,   20,   20,    6,    7,    8,    9])"
            ]
          },
          "metadata": {},
          "execution_count": 59
        }
      ]
    },
    {
      "cell_type": "code",
      "metadata": {
        "id": "h3X1lIxjoNUF"
      },
      "source": [
        "fatiados[:]=333"
      ],
      "execution_count": 61,
      "outputs": []
    },
    {
      "cell_type": "code",
      "metadata": {
        "colab": {
          "base_uri": "https://localhost:8080/"
        },
        "id": "nBMbpuNeoXNI",
        "outputId": "5d307d1b-860f-4865-9736-69a0da6af9ef"
      },
      "source": [
        "dadosseq"
      ],
      "execution_count": 62,
      "outputs": [
        {
          "output_type": "execute_result",
          "data": {
            "text/plain": [
              "array([  0,   1, 333, 333,  20,  20,   6,   7,   8,   9])"
            ]
          },
          "metadata": {},
          "execution_count": 62
        }
      ]
    },
    {
      "cell_type": "markdown",
      "metadata": {
        "id": "-aGDujhmogZl"
      },
      "source": [
        "Copiar dados"
      ]
    },
    {
      "cell_type": "code",
      "metadata": {
        "id": "QJZsCD7Tod0F"
      },
      "source": [
        "fatia2=dadosseq[2:4].copy()"
      ],
      "execution_count": 64,
      "outputs": []
    },
    {
      "cell_type": "code",
      "metadata": {
        "colab": {
          "base_uri": "https://localhost:8080/"
        },
        "id": "hKtopf0douhA",
        "outputId": "3d458c64-3d01-4c94-cdbe-67cd90e66884"
      },
      "source": [
        "fatia2"
      ],
      "execution_count": 65,
      "outputs": [
        {
          "output_type": "execute_result",
          "data": {
            "text/plain": [
              "array([333, 333])"
            ]
          },
          "metadata": {},
          "execution_count": 65
        }
      ]
    },
    {
      "cell_type": "code",
      "metadata": {
        "colab": {
          "base_uri": "https://localhost:8080/"
        },
        "id": "prS4yja8o4O9",
        "outputId": "a0a02b55-ec17-439e-f047-071f6d841b49"
      },
      "source": [
        "dadosseq"
      ],
      "execution_count": 66,
      "outputs": [
        {
          "output_type": "execute_result",
          "data": {
            "text/plain": [
              "array([  0,   1, 333, 333,  20,  20,   6,   7,   8,   9])"
            ]
          },
          "metadata": {},
          "execution_count": 66
        }
      ]
    },
    {
      "cell_type": "markdown",
      "metadata": {
        "id": "aWG_imPMo9Pp"
      },
      "source": [
        "Array com mais de uma dimensão"
      ]
    },
    {
      "cell_type": "code",
      "metadata": {
        "id": "TmMUfdS-pCAj"
      },
      "source": [
        "dados6=np.array([[1,2,3],[4,5,6],[7,8,9]])"
      ],
      "execution_count": 67,
      "outputs": []
    },
    {
      "cell_type": "code",
      "metadata": {
        "colab": {
          "base_uri": "https://localhost:8080/"
        },
        "id": "X7-fSNxlpPm6",
        "outputId": "26ca34bd-6ffb-475a-8c70-46d97dc96c12"
      },
      "source": [
        "dados6"
      ],
      "execution_count": 68,
      "outputs": [
        {
          "output_type": "execute_result",
          "data": {
            "text/plain": [
              "array([[1, 2, 3],\n",
              "       [4, 5, 6],\n",
              "       [7, 8, 9]])"
            ]
          },
          "metadata": {},
          "execution_count": 68
        }
      ]
    },
    {
      "cell_type": "code",
      "metadata": {
        "colab": {
          "base_uri": "https://localhost:8080/"
        },
        "id": "P58VUxzNpSw_",
        "outputId": "620eb455-d9dd-4d42-a572-c646469fd720"
      },
      "source": [
        "dados6[1,2]"
      ],
      "execution_count": 69,
      "outputs": [
        {
          "output_type": "execute_result",
          "data": {
            "text/plain": [
              "6"
            ]
          },
          "metadata": {},
          "execution_count": 69
        }
      ]
    },
    {
      "cell_type": "markdown",
      "metadata": {
        "id": "yprlhNAlpewm"
      },
      "source": [
        "Máscaras"
      ]
    },
    {
      "cell_type": "code",
      "metadata": {
        "id": "KD2CtYKopVyP"
      },
      "source": [
        "mascara=(dadosseq<100)"
      ],
      "execution_count": 70,
      "outputs": []
    },
    {
      "cell_type": "code",
      "metadata": {
        "colab": {
          "base_uri": "https://localhost:8080/"
        },
        "id": "zgeZeLP0pkX5",
        "outputId": "f77a3d58-7730-4090-d2a8-05a95677237b"
      },
      "source": [
        "mascara"
      ],
      "execution_count": 71,
      "outputs": [
        {
          "output_type": "execute_result",
          "data": {
            "text/plain": [
              "array([ True,  True, False, False,  True,  True,  True,  True,  True,\n",
              "        True])"
            ]
          },
          "metadata": {},
          "execution_count": 71
        }
      ]
    },
    {
      "cell_type": "code",
      "metadata": {
        "id": "JgfGS-F9pm8M"
      },
      "source": [
        "dadosseq[dadosseq<20]=8888"
      ],
      "execution_count": 72,
      "outputs": []
    },
    {
      "cell_type": "code",
      "metadata": {
        "colab": {
          "base_uri": "https://localhost:8080/"
        },
        "id": "iOC5mZcHp3Lu",
        "outputId": "ad991644-6ef3-40d1-a7fb-ac566b966ddc"
      },
      "source": [
        "dadosseq"
      ],
      "execution_count": 73,
      "outputs": [
        {
          "output_type": "execute_result",
          "data": {
            "text/plain": [
              "array([8888, 8888,  333,  333,   20,   20, 8888, 8888, 8888, 8888])"
            ]
          },
          "metadata": {},
          "execution_count": 73
        }
      ]
    },
    {
      "cell_type": "markdown",
      "metadata": {
        "id": "o2CDg77Ep8LS"
      },
      "source": [
        "Transposição"
      ]
    },
    {
      "cell_type": "code",
      "metadata": {
        "id": "DlyQ57Uxp5XQ"
      },
      "source": [
        "dados7=np.arange(15).reshape((3,5))"
      ],
      "execution_count": 74,
      "outputs": []
    },
    {
      "cell_type": "code",
      "metadata": {
        "colab": {
          "base_uri": "https://localhost:8080/"
        },
        "id": "wo3xQy0HqNZh",
        "outputId": "90337e20-e050-46ab-f9b7-fc29cee39b84"
      },
      "source": [
        "dados7"
      ],
      "execution_count": 75,
      "outputs": [
        {
          "output_type": "execute_result",
          "data": {
            "text/plain": [
              "array([[ 0,  1,  2,  3,  4],\n",
              "       [ 5,  6,  7,  8,  9],\n",
              "       [10, 11, 12, 13, 14]])"
            ]
          },
          "metadata": {},
          "execution_count": 75
        }
      ]
    },
    {
      "cell_type": "code",
      "metadata": {
        "colab": {
          "base_uri": "https://localhost:8080/"
        },
        "id": "cr57EC2tqOsw",
        "outputId": "3f30975b-b707-4dac-fe01-016bd724476e"
      },
      "source": [
        "dados7.T"
      ],
      "execution_count": 77,
      "outputs": [
        {
          "output_type": "execute_result",
          "data": {
            "text/plain": [
              "array([[ 0,  5, 10],\n",
              "       [ 1,  6, 11],\n",
              "       [ 2,  7, 12],\n",
              "       [ 3,  8, 13],\n",
              "       [ 4,  9, 14]])"
            ]
          },
          "metadata": {},
          "execution_count": 77
        }
      ]
    },
    {
      "cell_type": "markdown",
      "metadata": {
        "id": "zeTPts4XqgFi"
      },
      "source": [
        "Multiplicação de Matrizes com dot"
      ]
    },
    {
      "cell_type": "code",
      "metadata": {
        "colab": {
          "base_uri": "https://localhost:8080/"
        },
        "id": "YWgEAAUmqYc6",
        "outputId": "4c167d4a-12dd-4d34-d711-1f2cf2d09e6d"
      },
      "source": [
        "np.dot(dados7.T,dados7)"
      ],
      "execution_count": 78,
      "outputs": [
        {
          "output_type": "execute_result",
          "data": {
            "text/plain": [
              "array([[125, 140, 155, 170, 185],\n",
              "       [140, 158, 176, 194, 212],\n",
              "       [155, 176, 197, 218, 239],\n",
              "       [170, 194, 218, 242, 266],\n",
              "       [185, 212, 239, 266, 293]])"
            ]
          },
          "metadata": {},
          "execution_count": 78
        }
      ]
    },
    {
      "cell_type": "code",
      "metadata": {
        "id": "HTEYD4IkrAql"
      },
      "source": [
        ""
      ],
      "execution_count": null,
      "outputs": []
    }
  ]
}